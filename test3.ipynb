{
 "cells": [
  {
   "cell_type": "code",
   "execution_count": 1,
   "metadata": {},
   "outputs": [],
   "source": [
    "import numpy as np \n",
    "import pickle\n",
    "from utils import *\n",
    "from metrics import *\n",
    "import logging"
   ]
  },
  {
   "cell_type": "code",
   "execution_count": 2,
   "metadata": {},
   "outputs": [],
   "source": [
    "def create_logger(name, log_file, level):\n",
    "    logger = logging.getLogger(name)\n",
    "    logger.setLevel(level)\n",
    "    \n",
    "    handler = logging.FileHandler(log_file)\n",
    "    handler.setLevel(level)\n",
    "    \n",
    "    formatter = logging.Formatter('%(message)s')\n",
    "    handler.setFormatter(formatter)\n",
    "    \n",
    "    if not logger.handlers:  \n",
    "        logger.addHandler(handler)\n",
    "    \n",
    "    return logger\n",
    "\n",
    "result_logger = create_logger('info_logger', '/home/chri6578/Documents/CES/logs/discovery4.log', logging.INFO)\n"
   ]
  },
  {
   "cell_type": "code",
   "execution_count": 3,
   "metadata": {},
   "outputs": [
    {
     "name": "stdout",
     "output_type": "stream",
     "text": [
      "0\n"
     ]
    },
    {
     "name": "stderr",
     "output_type": "stream",
     "text": [
      "100%|██████████| 10/10 [00:00<00:00, 4417.38it/s]\n",
      "/home/chri6578/Documents/CES/utils.py:319: RuntimeWarning: invalid value encountered in divide\n",
      "  P1 = Y1 / Y_sum\n",
      "/home/chri6578/Documents/CES/utils.py:331: RuntimeWarning: Mean of empty slice\n",
      "  if np.isnan(np.nanmean(effect)) == 0:\n",
      "100%|██████████| 10/10 [00:00<00:00, 1349.04it/s]\n",
      "100%|██████████| 10/10 [00:00<00:00, 684.93it/s]\n",
      "100%|██████████| 10/10 [00:00<00:00, 119.27it/s]\n",
      "100%|██████████| 10/10 [00:00<00:00, 47.35it/s]\n",
      "100%|██████████| 10/10 [00:02<00:00,  4.12it/s]\n",
      "100%|██████████| 10/10 [00:08<00:00,  1.13it/s]\n"
     ]
    },
    {
     "name": "stdout",
     "output_type": "stream",
     "text": [
      "1\n"
     ]
    },
    {
     "name": "stderr",
     "output_type": "stream",
     "text": [
      "100%|██████████| 10/10 [00:00<00:00, 4937.38it/s]\n",
      "100%|██████████| 10/10 [00:00<00:00, 1588.81it/s]\n",
      "100%|██████████| 10/10 [00:00<00:00, 818.80it/s]\n",
      "100%|██████████| 10/10 [00:00<00:00, 109.46it/s]\n",
      "100%|██████████| 10/10 [00:00<00:00, 40.75it/s]\n",
      " 30%|███       | 3/10 [00:02<00:05,  1.35it/s]\n"
     ]
    },
    {
     "ename": "KeyboardInterrupt",
     "evalue": "",
     "output_type": "error",
     "traceback": [
      "\u001b[0;31m---------------------------------------------------------------------------\u001b[0m",
      "\u001b[0;31mKeyboardInterrupt\u001b[0m                         Traceback (most recent call last)",
      "Cell \u001b[0;32mIn[3], line 25\u001b[0m\n\u001b[1;32m     21\u001b[0m tau_diff \u001b[38;5;241m=\u001b[39m \u001b[38;5;241m0\u001b[39m\n\u001b[1;32m     23\u001b[0m tau_bar \u001b[38;5;241m=\u001b[39m bar_tau_0 \u001b[38;5;241m+\u001b[39m tau_diff\n\u001b[0;32m---> 25\u001b[0m A_est \u001b[38;5;241m=\u001b[39m \u001b[43mestimate\u001b[49m\u001b[43m(\u001b[49m\u001b[43mPHI\u001b[49m\u001b[43m,\u001b[49m\u001b[43m \u001b[49m\u001b[43mE_all\u001b[49m\u001b[43m,\u001b[49m\u001b[43m \u001b[49m\u001b[43mtau_bar\u001b[49m\u001b[43m,\u001b[49m\u001b[43m \u001b[49m\u001b[43mn\u001b[49m\u001b[43m \u001b[49m\u001b[43m)\u001b[49m\n\u001b[1;32m     27\u001b[0m acc \u001b[38;5;241m=\u001b[39m accuracy(A_est, Gamma, n)\n\u001b[1;32m     28\u001b[0m sgn_acc \u001b[38;5;241m=\u001b[39m sign_accuracy(A_est, Gamma)\n",
      "File \u001b[0;32m~/Documents/CES/utils.py:310\u001b[0m, in \u001b[0;36mestimate\u001b[0;34m(PHI, E_all, tau_bar, n)\u001b[0m\n\u001b[1;32m    308\u001b[0m z \u001b[38;5;241m=\u001b[39m np\u001b[38;5;241m.\u001b[39mzeros((n,))\n\u001b[1;32m    309\u001b[0m \u001b[38;5;28;01mfor\u001b[39;00m j \u001b[38;5;129;01min\u001b[39;00m \u001b[38;5;28mrange\u001b[39m(n):\n\u001b[0;32m--> 310\u001b[0m     z[j] \u001b[38;5;241m=\u001b[39m \u001b[43mnp\u001b[49m\u001b[38;5;241;43m.\u001b[39;49m\u001b[43msum\u001b[49m\u001b[43m(\u001b[49m\u001b[43m(\u001b[49m\u001b[43mE_all\u001b[49m\u001b[43m[\u001b[49m\u001b[43mj\u001b[49m\u001b[43m]\u001b[49m\u001b[43m \u001b[49m\u001b[38;5;241;43m>\u001b[39;49m\u001b[43m \u001b[49m\u001b[43mt\u001b[49m\u001b[43m \u001b[49m\u001b[38;5;241;43m-\u001b[39;49m\u001b[43m \u001b[49m\u001b[43mtau_bar\u001b[49m\u001b[43m)\u001b[49m\u001b[38;5;241;43m*\u001b[39;49m\u001b[43m(\u001b[49m\u001b[43mE_all\u001b[49m\u001b[43m[\u001b[49m\u001b[43mj\u001b[49m\u001b[43m]\u001b[49m\u001b[43m \u001b[49m\u001b[38;5;241;43m<\u001b[39;49m\u001b[43m \u001b[49m\u001b[43mt\u001b[49m\u001b[43m)\u001b[49m\u001b[43m)\u001b[49m \u001b[38;5;241m>\u001b[39m \u001b[38;5;241m0\u001b[39m\n\u001b[1;32m    312\u001b[0m \u001b[38;5;28;01mif\u001b[39;00m t \u001b[38;5;129;01min\u001b[39;00m E_all[i]:\n\u001b[1;32m    313\u001b[0m     Y1[i][\u001b[38;5;28mint\u001b[39m(z\u001b[38;5;241m.\u001b[39mT \u001b[38;5;241m@\u001b[39m pow2)] \u001b[38;5;241m+\u001b[39m\u001b[38;5;241m=\u001b[39m\u001b[38;5;241m1\u001b[39m\n",
      "File \u001b[0;32m<__array_function__ internals>:177\u001b[0m, in \u001b[0;36msum\u001b[0;34m(*args, **kwargs)\u001b[0m\n",
      "\u001b[0;31mKeyboardInterrupt\u001b[0m: "
     ]
    }
   ],
   "source": [
    "n_trials = 20\n",
    "\n",
    "for trial in range(n_trials):\n",
    "    print(trial)\n",
    "    \n",
    "    n = 10\n",
    "    \n",
    "    p_0 = 0.2\n",
    "    \n",
    "    gen_causal_model(n, p_0, 2, 1, 10, f'simple_{n}_{int(10*p_0)}')\n",
    "\n",
    "    n, Lambda, Gamma = load_params(f'simple_{n}_{int(10*p_0)}')\n",
    "\n",
    "    for T in [1e1, 5e1, 1e2, 5e2, 1e3, 5e3, 1e4]:\n",
    "        bar_tau_0 = 20\n",
    "\n",
    "        PHI, E_all = gen_sequence_simple(n, Lambda, Gamma, T, bar_tau_0)\n",
    "\n",
    "        Sn = np.sum([len(PHI[i]) for i in range(n)])\n",
    "\n",
    "        tau_diff = 0\n",
    "        \n",
    "        tau_bar = bar_tau_0 + tau_diff\n",
    "\n",
    "        A_est = estimate(PHI, E_all, tau_bar, n )\n",
    "\n",
    "        acc = accuracy(A_est, Gamma, n)\n",
    "        sgn_acc = sign_accuracy(A_est, Gamma)\n",
    "\n",
    "        result_logger.info(f'{trial}, {p_0}, {n}, {Sn}, {tau_diff}, {acc}, {sgn_acc}')\n",
    "\n",
    "\n"
   ]
  },
  {
   "cell_type": "code",
   "execution_count": null,
   "metadata": {},
   "outputs": [],
   "source": []
  }
 ],
 "metadata": {
  "kernelspec": {
   "display_name": "ml",
   "language": "python",
   "name": "python3"
  },
  "language_info": {
   "codemirror_mode": {
    "name": "ipython",
    "version": 3
   },
   "file_extension": ".py",
   "mimetype": "text/x-python",
   "name": "python",
   "nbconvert_exporter": "python",
   "pygments_lexer": "ipython3",
   "version": "3.11.3"
  }
 },
 "nbformat": 4,
 "nbformat_minor": 2
}

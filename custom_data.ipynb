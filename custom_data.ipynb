{
 "cells": [
  {
   "cell_type": "code",
   "execution_count": 1,
   "metadata": {},
   "outputs": [],
   "source": [
    "import numpy as np \n",
    "import pickle\n",
    "from utils import *\n",
    "from metrics import *\n",
    "import logging"
   ]
  },
  {
   "cell_type": "code",
   "execution_count": 2,
   "metadata": {},
   "outputs": [
    {
     "name": "stderr",
     "output_type": "stream",
     "text": [
      "100%|██████████| 59/59 [00:48<00:00,  1.22it/s]\n",
      "  0%|          | 0/59 [1:22:55<?, ?it/s]\n"
     ]
    },
    {
     "ename": "KeyboardInterrupt",
     "evalue": "",
     "output_type": "error",
     "traceback": [
      "\u001b[0;31m---------------------------------------------------------------------------\u001b[0m",
      "\u001b[0;31mKeyboardInterrupt\u001b[0m                         Traceback (most recent call last)",
      "Cell \u001b[0;32mIn[2], line 10\u001b[0m\n\u001b[1;32m      6\u001b[0m n \u001b[38;5;241m=\u001b[39m \u001b[38;5;28mlen\u001b[39m(E_all\u001b[38;5;241m.\u001b[39mkeys())\n\u001b[1;32m      8\u001b[0m tau_bar \u001b[38;5;241m=\u001b[39m bar_tau_0\n\u001b[0;32m---> 10\u001b[0m A_est \u001b[38;5;241m=\u001b[39m \u001b[43mestimate_\u001b[49m\u001b[43m(\u001b[49m\u001b[43mE_all\u001b[49m\u001b[43m,\u001b[49m\u001b[43m \u001b[49m\u001b[43mtau_bar\u001b[49m\u001b[43m,\u001b[49m\u001b[43m \u001b[49m\u001b[43mn\u001b[49m\u001b[43m \u001b[49m\u001b[43m)\u001b[49m\n\u001b[1;32m     12\u001b[0m \u001b[38;5;66;03m# acc = accuracy(A_est, Gamma, n)\u001b[39;00m\n\u001b[1;32m     13\u001b[0m \u001b[38;5;66;03m# sgn_acc = sign_accuracy(A_est, Gamma)\u001b[39;00m\n\u001b[1;32m     14\u001b[0m \n\u001b[1;32m     15\u001b[0m \u001b[38;5;66;03m# print(f'{trial}, {p_0}, {n}, {Sn}, {tau_diff}, {acc}, {sgn_acc}')\u001b[39;00m\n",
      "File \u001b[0;32m~/Documents/CES/utils.py:399\u001b[0m, in \u001b[0;36mestimate_\u001b[0;34m(E_all, tau_bar, n)\u001b[0m\n\u001b[1;32m    396\u001b[0m \u001b[38;5;28;01mfor\u001b[39;00m k \u001b[38;5;129;01min\u001b[39;00m L:\n\u001b[1;32m    397\u001b[0m     \u001b[38;5;28;01mif\u001b[39;00m k \u001b[38;5;241m&\u001b[39m (\u001b[38;5;241m1\u001b[39m \u001b[38;5;241m<<\u001b[39m j) \u001b[38;5;241m==\u001b[39m \u001b[38;5;241m0\u001b[39m:\n\u001b[0;32m--> 399\u001b[0m         \u001b[38;5;28;01mif\u001b[39;00m \u001b[43msearch_\u001b[49m\u001b[43m(\u001b[49m\u001b[43mE_all\u001b[49m\u001b[43m,\u001b[49m\u001b[43m \u001b[49m\u001b[43mtau_bar\u001b[49m\u001b[43m,\u001b[49m\u001b[43m \u001b[49m\u001b[43mn\u001b[49m\u001b[43m,\u001b[49m\u001b[43m \u001b[49m\u001b[43mk\u001b[49m\u001b[38;5;241;43m+\u001b[39;49m\u001b[43mpow2\u001b[49m\u001b[43m[\u001b[49m\u001b[43mj\u001b[49m\u001b[43m]\u001b[49m\u001b[43m)\u001b[49m \u001b[38;5;129;01mand\u001b[39;00m search_(E_all, tau_bar, n, k\u001b[38;5;241m+\u001b[39mpow2[j]):\n\u001b[1;32m    400\u001b[0m             \u001b[38;5;28;01mif\u001b[39;00m k\u001b[38;5;241m+\u001b[39mpow2[j] \u001b[38;5;129;01mnot\u001b[39;00m \u001b[38;5;129;01min\u001b[39;00m Y1[i]:\n\u001b[1;32m    401\u001b[0m                 Y1[i][k\u001b[38;5;241m+\u001b[39mpow2[j]] \u001b[38;5;241m=\u001b[39m \u001b[38;5;241m0\u001b[39m\n",
      "File \u001b[0;32m~/Documents/CES/utils.py:363\u001b[0m, in \u001b[0;36msearch_\u001b[0;34m(E_all, tau_bar, n, k)\u001b[0m\n\u001b[1;32m    361\u001b[0m z \u001b[38;5;241m=\u001b[39m np\u001b[38;5;241m.\u001b[39mzeros((n,))\n\u001b[1;32m    362\u001b[0m \u001b[38;5;28;01mfor\u001b[39;00m j \u001b[38;5;129;01min\u001b[39;00m \u001b[38;5;28mrange\u001b[39m(n):\n\u001b[0;32m--> 363\u001b[0m     z[j] \u001b[38;5;241m=\u001b[39m \u001b[43mnp\u001b[49m\u001b[38;5;241;43m.\u001b[39;49m\u001b[43msum\u001b[49m\u001b[43m(\u001b[49m\u001b[43m(\u001b[49m\u001b[43mE_all\u001b[49m\u001b[43m[\u001b[49m\u001b[43mj\u001b[49m\u001b[43m]\u001b[49m\u001b[43m \u001b[49m\u001b[38;5;241;43m>\u001b[39;49m\u001b[43m \u001b[49m\u001b[43mt\u001b[49m\u001b[43m \u001b[49m\u001b[38;5;241;43m-\u001b[39;49m\u001b[43m \u001b[49m\u001b[43mtau_bar\u001b[49m\u001b[43m)\u001b[49m\u001b[38;5;241;43m*\u001b[39;49m\u001b[43m(\u001b[49m\u001b[43mE_all\u001b[49m\u001b[43m[\u001b[49m\u001b[43mj\u001b[49m\u001b[43m]\u001b[49m\u001b[43m \u001b[49m\u001b[38;5;241;43m<\u001b[39;49m\u001b[43m \u001b[49m\u001b[43mt\u001b[49m\u001b[43m)\u001b[49m\u001b[43m)\u001b[49m \u001b[38;5;241m>\u001b[39m \u001b[38;5;241m0\u001b[39m\n\u001b[1;32m    365\u001b[0m \u001b[38;5;28;01mif\u001b[39;00m np\u001b[38;5;241m.\u001b[39mlinalg\u001b[38;5;241m.\u001b[39mnorm(binary_array \u001b[38;5;241m-\u001b[39m z)\u001b[38;5;241m==\u001b[39m\u001b[38;5;241m0\u001b[39m:\n\u001b[1;32m    366\u001b[0m     \u001b[38;5;28;01mreturn\u001b[39;00m \u001b[38;5;28;01mTrue\u001b[39;00m \n",
      "File \u001b[0;32m<__array_function__ internals>:177\u001b[0m, in \u001b[0;36msum\u001b[0;34m(*args, **kwargs)\u001b[0m\n",
      "\u001b[0;31mKeyboardInterrupt\u001b[0m: "
     ]
    }
   ],
   "source": [
    "bar_tau_0 = 20\n",
    "\n",
    "with open(\"/home/chri6578/Documents/causaldata/NAH/alarms.pkl\", \"rb\") as file:\n",
    "    E_all = pickle.load(file)\n",
    "\n",
    "n = len(E_all.keys())\n",
    "\n",
    "tau_bar = bar_tau_0\n",
    "\n",
    "A_est = estimate_(E_all, tau_bar, n )\n",
    "\n",
    "# acc = accuracy(A_est, Gamma, n)\n",
    "# sgn_acc = sign_accuracy(A_est, Gamma)\n",
    "\n",
    "# print(f'{trial}, {p_0}, {n}, {Sn}, {tau_diff}, {acc}, {sgn_acc}')\n",
    "\n",
    "\n",
    "# cannot run for large n. too slow (need to speed up)"
   ]
  },
  {
   "cell_type": "code",
   "execution_count": 6,
   "metadata": {},
   "outputs": [
    {
     "name": "stdout",
     "output_type": "stream",
     "text": [
      "[0 0 0 0 0 1 0 1]\n"
     ]
    }
   ],
   "source": []
  },
  {
   "cell_type": "code",
   "execution_count": null,
   "metadata": {},
   "outputs": [],
   "source": []
  }
 ],
 "metadata": {
  "kernelspec": {
   "display_name": "ml",
   "language": "python",
   "name": "python3"
  },
  "language_info": {
   "codemirror_mode": {
    "name": "ipython",
    "version": 3
   },
   "file_extension": ".py",
   "mimetype": "text/x-python",
   "name": "python",
   "nbconvert_exporter": "python",
   "pygments_lexer": "ipython3",
   "version": "3.11.3"
  }
 },
 "nbformat": 4,
 "nbformat_minor": 2
}

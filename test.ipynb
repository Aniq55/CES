{
 "cells": [
  {
   "cell_type": "code",
   "execution_count": 1,
   "metadata": {},
   "outputs": [],
   "source": [
    "import numpy as np \n",
    "import pickle\n",
    "from utils import *\n",
    "from metrics import *\n",
    "import logging"
   ]
  },
  {
   "cell_type": "code",
   "execution_count": 4,
   "metadata": {},
   "outputs": [],
   "source": [
    "def create_logger(name, log_file, level):\n",
    "    # Create a custom logger for each log file\n",
    "    logger = logging.getLogger(name)\n",
    "    logger.setLevel(level)\n",
    "    \n",
    "    # Create a file handler for the logger\n",
    "    handler = logging.FileHandler(log_file)\n",
    "    handler.setLevel(level)\n",
    "    \n",
    "    # Create a formatter and set it for the handler\n",
    "    formatter = logging.Formatter('%(message)s')\n",
    "    handler.setFormatter(formatter)\n",
    "    \n",
    "    # Add the handler to the logger\n",
    "    if not logger.handlers:  # Avoid adding multiple handlers in repeated calls\n",
    "        logger.addHandler(handler)\n",
    "    \n",
    "    return logger\n",
    "\n",
    "# Create three separate loggers for different log levels and files\n",
    "ATD_logger = create_logger('info_logger', '/home/chri6578/Documents/CES/logs/ATD.log', logging.INFO)\n",
    "ACD_logger = create_logger('warning_logger', '/home/chri6578/Documents/CES/logs/ACD.log', logging.WARNING)\n",
    "OD_logger = create_logger('error_logger', '/home/chri6578/Documents/CES/logs/OD.log', logging.ERROR)\n",
    "\n",
    "# Log messages for each logger as needed\n",
    "ATD_logger.info(\"This is an info message, only in info.log.\")\n",
    "ACD_logger.warning(\"This is a warning message, only in warning.log.\")\n",
    "OD_logger.error(\"This is an error message, only in error.log.\")"
   ]
  },
  {
   "cell_type": "code",
   "execution_count": 5,
   "metadata": {},
   "outputs": [],
   "source": [
    "param_name = \"Theta_1\"\n",
    "\n",
    "with open(f'/home/chri6578/Documents/CES/params/{param_name}.pickle', 'rb') as file:\n",
    "    Theta = pickle.load(file)"
   ]
  },
  {
   "cell_type": "code",
   "execution_count": 8,
   "metadata": {},
   "outputs": [
    {
     "name": "stderr",
     "output_type": "stream",
     "text": [
      "/home/chri6578/Documents/CES/utils.py:5: RuntimeWarning: overflow encountered in exp\n",
      "  return 1.0/(1 + np.exp(-x))\n"
     ]
    }
   ],
   "source": [
    "n_iters = int(1e2)\n",
    "\n",
    "for iter_ in range(n_iters):\n",
    "    E_1 = ESG(Theta)\n",
    "    E_2 = ESG(Theta)\n",
    "    \n",
    "    atd = ATD(E_1, E_2)\n",
    "    # LOG: atd\n",
    "    ATD_logger.info(f'{atd}')\n",
    "    \n",
    "    for v in np.arange(-2,5,0.5):\n",
    "        tau = np.power(10, v)\n",
    "        acd = ACD(E_1, E_2, tau)\n",
    "        # LOG: v, acd\n",
    "        ACD_logger.warning(f'{v}, {acd}')\n",
    "        \n",
    "    for k in range(2,6):\n",
    "        od = OD(E_1, E_2, k)\n",
    "        # LOG: k, od\n",
    "        OD_logger.error(f'{k}, {od}')\n",
    "\n"
   ]
  },
  {
   "cell_type": "code",
   "execution_count": 2,
   "metadata": {},
   "outputs": [],
   "source": []
  },
  {
   "cell_type": "code",
   "execution_count": 3,
   "metadata": {},
   "outputs": [
    {
     "data": {
      "text/html": [
       "<div>\n",
       "<style scoped>\n",
       "    .dataframe tbody tr th:only-of-type {\n",
       "        vertical-align: middle;\n",
       "    }\n",
       "\n",
       "    .dataframe tbody tr th {\n",
       "        vertical-align: top;\n",
       "    }\n",
       "\n",
       "    .dataframe thead th {\n",
       "        text-align: right;\n",
       "    }\n",
       "</style>\n",
       "<table border=\"1\" class=\"dataframe\">\n",
       "  <thead>\n",
       "    <tr style=\"text-align: right;\">\n",
       "      <th></th>\n",
       "      <th>event</th>\n",
       "      <th>timestamp</th>\n",
       "    </tr>\n",
       "  </thead>\n",
       "  <tbody>\n",
       "    <tr>\n",
       "      <th>0</th>\n",
       "      <td>9</td>\n",
       "      <td>9</td>\n",
       "    </tr>\n",
       "    <tr>\n",
       "      <th>1</th>\n",
       "      <td>9</td>\n",
       "      <td>35</td>\n",
       "    </tr>\n",
       "    <tr>\n",
       "      <th>2</th>\n",
       "      <td>5</td>\n",
       "      <td>39</td>\n",
       "    </tr>\n",
       "    <tr>\n",
       "      <th>3</th>\n",
       "      <td>9</td>\n",
       "      <td>43</td>\n",
       "    </tr>\n",
       "    <tr>\n",
       "      <th>4</th>\n",
       "      <td>9</td>\n",
       "      <td>52</td>\n",
       "    </tr>\n",
       "    <tr>\n",
       "      <th>...</th>\n",
       "      <td>...</td>\n",
       "      <td>...</td>\n",
       "    </tr>\n",
       "    <tr>\n",
       "      <th>532</th>\n",
       "      <td>8</td>\n",
       "      <td>10139</td>\n",
       "    </tr>\n",
       "    <tr>\n",
       "      <th>533</th>\n",
       "      <td>3</td>\n",
       "      <td>10162</td>\n",
       "    </tr>\n",
       "    <tr>\n",
       "      <th>534</th>\n",
       "      <td>7</td>\n",
       "      <td>10230</td>\n",
       "    </tr>\n",
       "    <tr>\n",
       "      <th>535</th>\n",
       "      <td>5</td>\n",
       "      <td>10443</td>\n",
       "    </tr>\n",
       "    <tr>\n",
       "      <th>536</th>\n",
       "      <td>6</td>\n",
       "      <td>11048</td>\n",
       "    </tr>\n",
       "  </tbody>\n",
       "</table>\n",
       "<p>537 rows × 2 columns</p>\n",
       "</div>"
      ],
      "text/plain": [
       "     event  timestamp\n",
       "0        9          9\n",
       "1        9         35\n",
       "2        5         39\n",
       "3        9         43\n",
       "4        9         52\n",
       "..     ...        ...\n",
       "532      8      10139\n",
       "533      3      10162\n",
       "534      7      10230\n",
       "535      5      10443\n",
       "536      6      11048\n",
       "\n",
       "[537 rows x 2 columns]"
      ]
     },
     "execution_count": 3,
     "metadata": {},
     "output_type": "execute_result"
    }
   ],
   "source": [
    "ES2DF(E_1)"
   ]
  },
  {
   "cell_type": "code",
   "execution_count": null,
   "metadata": {},
   "outputs": [],
   "source": []
  }
 ],
 "metadata": {
  "kernelspec": {
   "display_name": "ml",
   "language": "python",
   "name": "python3"
  },
  "language_info": {
   "codemirror_mode": {
    "name": "ipython",
    "version": 3
   },
   "file_extension": ".py",
   "mimetype": "text/x-python",
   "name": "python",
   "nbconvert_exporter": "python",
   "pygments_lexer": "ipython3",
   "version": "3.11.3"
  }
 },
 "nbformat": 4,
 "nbformat_minor": 2
}

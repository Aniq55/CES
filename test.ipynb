{
 "cells": [
  {
   "cell_type": "code",
   "execution_count": 3,
   "metadata": {},
   "outputs": [],
   "source": [
    "import numpy as np \n",
    "import pickle\n",
    "from utils import *\n",
    "from metrics import *\n",
    "import logging"
   ]
  },
  {
   "cell_type": "code",
   "execution_count": 4,
   "metadata": {},
   "outputs": [],
   "source": [
    "def create_logger(name, log_file, level):\n",
    "    # Create a custom logger for each log file\n",
    "    logger = logging.getLogger(name)\n",
    "    logger.setLevel(level)\n",
    "    \n",
    "    # Create a file handler for the logger\n",
    "    handler = logging.FileHandler(log_file)\n",
    "    handler.setLevel(level)\n",
    "    \n",
    "    # Create a formatter and set it for the handler\n",
    "    formatter = logging.Formatter('%(message)s')\n",
    "    handler.setFormatter(formatter)\n",
    "    \n",
    "    # Add the handler to the logger\n",
    "    if not logger.handlers:  # Avoid adding multiple handlers in repeated calls\n",
    "        logger.addHandler(handler)\n",
    "    \n",
    "    return logger\n",
    "\n",
    "# Create three separate loggers for different log levels and files\n",
    "ATD_logger = create_logger('info_logger', '/home/chri6578/Documents/CES/logs/ATD.log', logging.INFO)\n",
    "ACD_logger = create_logger('warning_logger', '/home/chri6578/Documents/CES/logs/ACD.log', logging.WARNING)\n",
    "OD_logger = create_logger('error_logger', '/home/chri6578/Documents/CES/logs/OD.log', logging.ERROR)\n",
    "\n",
    "# Log messages for each logger as needed\n",
    "ATD_logger.info(\"This is an info message, only in info.log.\")\n",
    "ACD_logger.warning(\"This is a warning message, only in warning.log.\")\n",
    "OD_logger.error(\"This is an error message, only in error.log.\")"
   ]
  },
  {
   "cell_type": "code",
   "execution_count": 5,
   "metadata": {},
   "outputs": [],
   "source": [
    "param_name = \"Theta_1\"\n",
    "\n",
    "with open(f'/home/chri6578/Documents/CES/params/{param_name}.pickle', 'rb') as file:\n",
    "    Theta = pickle.load(file)"
   ]
  },
  {
   "cell_type": "code",
   "execution_count": 8,
   "metadata": {},
   "outputs": [
    {
     "name": "stderr",
     "output_type": "stream",
     "text": [
      "/home/chri6578/Documents/CES/utils.py:5: RuntimeWarning: overflow encountered in exp\n",
      "  return 1.0/(1 + np.exp(-x))\n"
     ]
    }
   ],
   "source": [
    "n_iters = int(1e2)\n",
    "\n",
    "for iter_ in range(n_iters):\n",
    "    E_1 = ESG(Theta)\n",
    "    E_2 = ESG(Theta)\n",
    "    \n",
    "    atd = ATD(E_1, E_2)\n",
    "    # LOG: atd\n",
    "    ATD_logger.info(f'{atd}')\n",
    "    \n",
    "    for v in np.arange(-2,5,0.5):\n",
    "        tau = np.power(10, v)\n",
    "        acd = ACD(E_1, E_2, tau)\n",
    "        # LOG: v, acd\n",
    "        ACD_logger.warning(f'{v}, {acd}')\n",
    "        \n",
    "    for k in range(2,6):\n",
    "        od = OD(E_1, E_2, k)\n",
    "        # LOG: k, od\n",
    "        OD_logger.error(f'{k}, {od}')\n",
    "\n"
   ]
  },
  {
   "cell_type": "code",
   "execution_count": 1,
   "metadata": {},
   "outputs": [],
   "source": [
    "import numpy as np \n",
    "import pickle\n",
    "from utils import *\n",
    "from metrics import *\n",
    "from tqdm import tqdm\n",
    "\n",
    "\n",
    "param_name = \"Theta_1\"\n",
    "\n",
    "with open(f'/home/chri6578/Documents/CES/params/{param_name}.pickle', 'rb') as file:\n",
    "    Theta = pickle.load(file)\n",
    "\n",
    "E_1 = ESG(Theta)"
   ]
  },
  {
   "cell_type": "code",
   "execution_count": 8,
   "metadata": {},
   "outputs": [
    {
     "data": {
      "text/plain": [
       "dict_keys([0, 1, 2, 3, 4, 5, 6, 7, 8, 9])"
      ]
     },
     "execution_count": 8,
     "metadata": {},
     "output_type": "execute_result"
    }
   ],
   "source": [
    "E_1.keys()"
   ]
  },
  {
   "cell_type": "code",
   "execution_count": null,
   "metadata": {},
   "outputs": [],
   "source": [
    "# dataframe: event, timestamp (int) [sorted]"
   ]
  }
 ],
 "metadata": {
  "kernelspec": {
   "display_name": "ml",
   "language": "python",
   "name": "python3"
  },
  "language_info": {
   "codemirror_mode": {
    "name": "ipython",
    "version": 3
   },
   "file_extension": ".py",
   "mimetype": "text/x-python",
   "name": "python",
   "nbconvert_exporter": "python",
   "pygments_lexer": "ipython3",
   "version": "3.11.3"
  }
 },
 "nbformat": 4,
 "nbformat_minor": 2
}

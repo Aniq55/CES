{
 "cells": [
  {
   "cell_type": "code",
   "execution_count": 197,
   "metadata": {},
   "outputs": [],
   "source": [
    "import numpy as np \n",
    "import pickle"
   ]
  },
  {
   "cell_type": "code",
   "execution_count": 198,
   "metadata": {},
   "outputs": [],
   "source": [
    "def sigmoid(x):\n",
    "    return 1.0/(1 + np.exp(-x))"
   ]
  },
  {
   "cell_type": "code",
   "execution_count": 199,
   "metadata": {},
   "outputs": [],
   "source": [
    "param_name = \"Theta_1\"\n",
    "\n",
    "with open(f'/home/chri6578/Documents/CES/params/{param_name}.pickle', 'rb') as file:\n",
    "    Theta = pickle.load(file)\n",
    "    \n",
    "n = Theta['n']\n",
    "Lambda = Theta['Lambda']\n",
    "Eta = Theta['Eta']\n",
    "Alpha = Theta['Alpha']\n",
    "Beta = Theta['Beta']\n",
    "Gamma = Theta['Gamma']\n",
    "T = 1e3"
   ]
  },
  {
   "cell_type": "code",
   "execution_count": 200,
   "metadata": {},
   "outputs": [],
   "source": [
    "# step 2\n",
    "PHI = {}\n",
    "\n",
    "for i in range(n):\n",
    "    PHI[i] = []\n",
    "    t = 0\n",
    "    t_prev = 0\n",
    "    while t_prev < T:\n",
    "        t = np.random.exponential(Lambda[i])[0]\n",
    "        PHI[i].append(t + t_prev)\n",
    "        t_prev = t + t_prev"
   ]
  },
  {
   "cell_type": "code",
   "execution_count": 201,
   "metadata": {},
   "outputs": [],
   "source": [
    "# step 3\n",
    "tuple_list = [(i, t) for i in range(n) for t in PHI[i]]\n",
    "T_list = sorted(tuple_list, key=lambda x: x[1])"
   ]
  },
  {
   "cell_type": "code",
   "execution_count": 202,
   "metadata": {},
   "outputs": [],
   "source": [
    "# steps 4-11\n",
    "\n",
    "E_all = {}\n",
    "for i in range(n):\n",
    "    E_all[i] = []\n",
    "t_last = np.zeros((n,))\n",
    "\n",
    "for (e,t) in T_list:\n",
    "    # update x_i^t\n",
    "    s = np.sum( Gamma[e]*np.power(t- t_last, Alpha[e]-1)*np.exp(-(t-t_last)*Beta[e])*(t_last != 0) ) + Eta[e]\n",
    "    p = sigmoid(s)\n",
    "    # print(s, p)\n",
    "    trial = np.random.binomial(1,p)\n",
    "    if trial:\n",
    "        E_all[e].append(t)\n",
    "        t_last[e] = t"
   ]
  },
  {
   "cell_type": "code",
   "execution_count": 203,
   "metadata": {},
   "outputs": [
    {
     "data": {
      "text/plain": [
       "{0: [157.21457098878065,\n",
       "  461.1625571341467,\n",
       "  762.7844048628499,\n",
       "  1023.4899141933579],\n",
       " 1: [],\n",
       " 2: [89.98397444360329,\n",
       "  253.18311761667738,\n",
       "  480.70933041445926,\n",
       "  1278.1092841229986],\n",
       " 3: [40.996388306804356,\n",
       "  308.005770628867,\n",
       "  373.54301401564896,\n",
       "  493.43651897358575,\n",
       "  755.5322291080067,\n",
       "  819.7341775331304,\n",
       "  1568.499207463596],\n",
       " 4: [350.754468236194, 434.4916303887634, 832.2220671462868],\n",
       " 5: [76.17403135534758,\n",
       "  79.73581471366508,\n",
       "  107.51435939011765,\n",
       "  245.3459810795742,\n",
       "  1309.2265452953382],\n",
       " 6: [233.16069163541619,\n",
       "  687.7783072933127,\n",
       "  737.0305156875334,\n",
       "  1225.9659986495124],\n",
       " 7: [730.9322652585115,\n",
       "  899.1468916355122,\n",
       "  988.5642075465714,\n",
       "  1479.3725008477224],\n",
       " 8: [141.9289934321079, 237.64348826970115, 1229.0064889385544],\n",
       " 9: [21.431903745789615,\n",
       "  48.983490474443855,\n",
       "  65.50776554607806,\n",
       "  151.71403582228862,\n",
       "  157.4089748714909,\n",
       "  158.41761813090585,\n",
       "  170.62925421251396,\n",
       "  208.40918060088816,\n",
       "  237.3728158463013,\n",
       "  255.87967841272447,\n",
       "  330.2315829161874,\n",
       "  342.38306700207784,\n",
       "  353.72359162133927,\n",
       "  381.3663725674504,\n",
       "  408.4198360999978,\n",
       "  453.32808614871277,\n",
       "  482.68755503197474,\n",
       "  488.0109670434131,\n",
       "  501.82527917159814,\n",
       "  552.0409975223134,\n",
       "  697.2349491636647,\n",
       "  721.5257683125078,\n",
       "  768.7058015249453,\n",
       "  856.5938881943099,\n",
       "  858.1454916466079,\n",
       "  862.8777531160181,\n",
       "  879.0443799942933]}"
      ]
     },
     "execution_count": 203,
     "metadata": {},
     "output_type": "execute_result"
    }
   ],
   "source": [
    "with open('/home/chri6578/Documents/CES/sequence/ES_Theta_1.pickle', 'wb') as file:\n",
    "    pickle.dump(E_all, file)"
   ]
  },
  {
   "cell_type": "code",
   "execution_count": 210,
   "metadata": {},
   "outputs": [
    {
     "data": {
      "text/plain": [
       "(61, 129)"
      ]
     },
     "execution_count": 210,
     "metadata": {},
     "output_type": "execute_result"
    }
   ],
   "source": [
    "# np.sum([len(E_all[e]) for e in range(n)]), np.sum([len(PHI[e]) for e in range(n)])"
   ]
  },
  {
   "cell_type": "code",
   "execution_count": null,
   "metadata": {},
   "outputs": [],
   "source": []
  }
 ],
 "metadata": {
  "kernelspec": {
   "display_name": "ml",
   "language": "python",
   "name": "python3"
  },
  "language_info": {
   "codemirror_mode": {
    "name": "ipython",
    "version": 3
   },
   "file_extension": ".py",
   "mimetype": "text/x-python",
   "name": "python",
   "nbconvert_exporter": "python",
   "pygments_lexer": "ipython3",
   "version": "3.11.3"
  }
 },
 "nbformat": 4,
 "nbformat_minor": 2
}

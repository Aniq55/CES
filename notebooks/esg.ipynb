{
 "cells": [
  {
   "cell_type": "code",
   "execution_count": 211,
   "metadata": {},
   "outputs": [],
   "source": [
    "import numpy as np \n",
    "import pickle"
   ]
  },
  {
   "cell_type": "code",
   "execution_count": 212,
   "metadata": {},
   "outputs": [],
   "source": [
    "def sigmoid(x):\n",
    "    return 1.0/(1 + np.exp(-x))"
   ]
  },
  {
   "cell_type": "code",
   "execution_count": 213,
   "metadata": {},
   "outputs": [],
   "source": [
    "param_name = \"Theta_1\"\n",
    "\n",
    "with open(f'/home/chri6578/Documents/CES/params/{param_name}.pickle', 'rb') as file:\n",
    "    Theta = pickle.load(file)\n",
    "    \n",
    "n = Theta['n']\n",
    "Lambda = Theta['Lambda']\n",
    "Eta = Theta['Eta']\n",
    "Alpha = Theta['Alpha']\n",
    "Beta = Theta['Beta']\n",
    "Gamma = Theta['Gamma']\n",
    "T = 1e3"
   ]
  },
  {
   "cell_type": "code",
   "execution_count": 214,
   "metadata": {},
   "outputs": [],
   "source": [
    "# step 2\n",
    "PHI = {}\n",
    "\n",
    "for i in range(n):\n",
    "    PHI[i] = []\n",
    "    t = 0\n",
    "    t_prev = 0\n",
    "    while t_prev < T:\n",
    "        t = np.random.exponential(Lambda[i])[0]\n",
    "        PHI[i].append(t + t_prev)\n",
    "        t_prev = t + t_prev"
   ]
  },
  {
   "cell_type": "code",
   "execution_count": 215,
   "metadata": {},
   "outputs": [],
   "source": [
    "# step 3\n",
    "tuple_list = [(i, t) for i in range(n) for t in PHI[i]]\n",
    "T_list = sorted(tuple_list, key=lambda x: x[1])"
   ]
  },
  {
   "cell_type": "code",
   "execution_count": 216,
   "metadata": {},
   "outputs": [],
   "source": [
    "# steps 4-11\n",
    "\n",
    "E_all = {}\n",
    "for i in range(n):\n",
    "    E_all[i] = []\n",
    "t_last = np.zeros((n,))\n",
    "\n",
    "for (e,t) in T_list:\n",
    "    # update x_i^t\n",
    "    s = np.sum( Gamma[e]*np.power(t- t_last, Alpha[e]-1)*np.exp(-(t-t_last)*Beta[e])*(t_last != 0) ) + Eta[e]\n",
    "    p = sigmoid(s)\n",
    "    # print(s, p)\n",
    "    trial = np.random.binomial(1,p)\n",
    "    if trial:\n",
    "        E_all[e].append(t)\n",
    "        t_last[e] = t"
   ]
  },
  {
   "cell_type": "code",
   "execution_count": 217,
   "metadata": {},
   "outputs": [],
   "source": [
    "with open('/home/chri6578/Documents/CES/sequence/ES_Theta_1.pickle', 'wb') as file:\n",
    "    pickle.dump(E_all, file)"
   ]
  },
  {
   "cell_type": "code",
   "execution_count": 218,
   "metadata": {},
   "outputs": [],
   "source": [
    "# np.sum([len(E_all[e]) for e in range(n)]), np.sum([len(PHI[e]) for e in range(n)])"
   ]
  },
  {
   "cell_type": "code",
   "execution_count": null,
   "metadata": {},
   "outputs": [],
   "source": []
  }
 ],
 "metadata": {
  "kernelspec": {
   "display_name": "ml",
   "language": "python",
   "name": "python3"
  },
  "language_info": {
   "codemirror_mode": {
    "name": "ipython",
    "version": 3
   },
   "file_extension": ".py",
   "mimetype": "text/x-python",
   "name": "python",
   "nbconvert_exporter": "python",
   "pygments_lexer": "ipython3",
   "version": "3.11.3"
  }
 },
 "nbformat": 4,
 "nbformat_minor": 2
}

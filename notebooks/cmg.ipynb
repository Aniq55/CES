{
 "cells": [
  {
   "cell_type": "code",
   "execution_count": 2,
   "metadata": {},
   "outputs": [],
   "source": [
    "import numpy as np\n",
    "import pickle"
   ]
  },
  {
   "cell_type": "code",
   "execution_count": 10,
   "metadata": {},
   "outputs": [],
   "source": [
    "# parameters\n",
    "n = 10\n",
    "p_0 = 0.4\n",
    "theta_0 = 3e-5\n",
    "mu_0 = 5.5\n",
    "sigma_0 = 1\n",
    "sigma_1 = 1.5\n",
    "sigma_2 = 0.7"
   ]
  },
  {
   "cell_type": "code",
   "execution_count": 11,
   "metadata": {},
   "outputs": [],
   "source": [
    "# step 1\n",
    "A = np.zeros((n,n))\n",
    "for i in range(n):\n",
    "    for j in range(n):\n",
    "        A[i][j] = np.random.binomial(1, p_0)\n",
    "\n",
    "# step 2\n",
    "for i in range(n):\n",
    "    A[i][i] = 1"
   ]
  },
  {
   "cell_type": "code",
   "execution_count": 12,
   "metadata": {},
   "outputs": [],
   "source": [
    "# step 4\n",
    "Lambda = np.zeros((n,1))\n",
    "for i in range(n):\n",
    "    Lambda[i] = np.random.lognormal(mu_0, sigma_0**2)"
   ]
  },
  {
   "cell_type": "code",
   "execution_count": 13,
   "metadata": {},
   "outputs": [],
   "source": [
    "# step 5\n",
    "Eta = np.zeros((n,1))\n",
    "for i in range(n):\n",
    "    Eta[i] = np.random.normal(0, sigma_1**2)"
   ]
  },
  {
   "cell_type": "code",
   "execution_count": 14,
   "metadata": {},
   "outputs": [],
   "source": [
    "# steps 6-10\n",
    "Alpha = np.zeros((n,n))\n",
    "Beta = np.zeros((n,n))\n",
    "Gamma = np.zeros((n,n))\n",
    "for i in range(n):\n",
    "    for j in range(n):\n",
    "        if A[i][j] == 1:\n",
    "            Beta[i][j] = np.random.exponential(theta_0)\n",
    "            Alpha[i][j] = Beta[i][j]/Lambda[j]\n",
    "            Gamma[i][j] = np.random.normal(0, sigma_2**2)"
   ]
  },
  {
   "cell_type": "code",
   "execution_count": 15,
   "metadata": {},
   "outputs": [],
   "source": [
    "# step 11\n",
    "Theta = {\n",
    "    'Lambda': Lambda,\n",
    "    'Eta': Eta,\n",
    "    'Alpha': Alpha,\n",
    "    'Beta': Beta,\n",
    "    'Gamma': Gamma\n",
    "}\n",
    "\n",
    "with open('/home/chri6578/Documents/CES/params/Theta_1.pickle', 'wb') as file:\n",
    "    pickle.dump(Theta, file)"
   ]
  },
  {
   "cell_type": "code",
   "execution_count": 16,
   "metadata": {},
   "outputs": [
    {
     "data": {
      "text/plain": [
       "array([[240.98760868],\n",
       "       [942.62755912],\n",
       "       [140.52081582],\n",
       "       [282.78358215],\n",
       "       [167.7455556 ],\n",
       "       [ 58.90493259],\n",
       "       [177.38892858],\n",
       "       [ 67.41471102],\n",
       "       [570.31908111],\n",
       "       [300.89849696]])"
      ]
     },
     "execution_count": 16,
     "metadata": {},
     "output_type": "execute_result"
    }
   ],
   "source": [
    "Lambda"
   ]
  },
  {
   "cell_type": "code",
   "execution_count": null,
   "metadata": {},
   "outputs": [],
   "source": []
  }
 ],
 "metadata": {
  "kernelspec": {
   "display_name": "ml",
   "language": "python",
   "name": "python3"
  },
  "language_info": {
   "codemirror_mode": {
    "name": "ipython",
    "version": 3
   },
   "file_extension": ".py",
   "mimetype": "text/x-python",
   "name": "python",
   "nbconvert_exporter": "python",
   "pygments_lexer": "ipython3",
   "version": "3.11.3"
  }
 },
 "nbformat": 4,
 "nbformat_minor": 2
}

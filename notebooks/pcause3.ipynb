{
 "cells": [
  {
   "cell_type": "code",
   "execution_count": 403,
   "metadata": {},
   "outputs": [],
   "source": [
    "import numpy as np \n",
    "import pandas as pd\n",
    "import pickle\n",
    "import matplotlib.pyplot as plt \n",
    "import seaborn as sns \n",
    "sns.set_theme()\n",
    "from tqdm import tqdm "
   ]
  },
  {
   "cell_type": "code",
   "execution_count": 404,
   "metadata": {},
   "outputs": [],
   "source": [
    "def sigmoid(x):\n",
    "    return 1.0/(1 + np.exp(-x))"
   ]
  },
  {
   "cell_type": "code",
   "execution_count": 405,
   "metadata": {},
   "outputs": [],
   "source": [
    "param_name = \"Theta_7\"\n",
    "\n"
   ]
  },
  {
   "cell_type": "code",
   "execution_count": 406,
   "metadata": {},
   "outputs": [],
   "source": []
  },
  {
   "cell_type": "code",
   "execution_count": 407,
   "metadata": {},
   "outputs": [
    {
     "data": {
      "text/plain": [
       "16522"
      ]
     },
     "execution_count": 407,
     "metadata": {},
     "output_type": "execute_result"
    }
   ],
   "source": [
    "np.sum([len(PHI[i]) for i in range(n)])"
   ]
  },
  {
   "cell_type": "code",
   "execution_count": 408,
   "metadata": {},
   "outputs": [],
   "source": []
  },
  {
   "cell_type": "code",
   "execution_count": 425,
   "metadata": {},
   "outputs": [],
   "source": [
    "\n",
    "\n",
    "# load parameters\n",
    "with open(f'/home/chri6578/Documents/CES/params/{param_name}.pickle', 'rb') as file:\n",
    "    Theta = pickle.load(file)\n",
    "\n",
    "n = Theta['n']\n",
    "Lambda = Theta['Lambda']\n",
    "Gamma = Theta['Gamma']\n",
    "\n",
    "bar_tau_0 = 20\n",
    "tau_bar = 20\n",
    "\n",
    "\n",
    "def gen_sequence_simple(n, Lambda, Gamma, T, bar_tau_0):\n",
    "    \n",
    "    n = n \n",
    "    Lambda = Lambda \n",
    "    Gamma = Gamma\n",
    "    \n",
    "    # step 2\n",
    "    PHI = {}\n",
    "\n",
    "    for i in range(n):\n",
    "        PHI[i] = []\n",
    "        t = 0\n",
    "        t_prev = 0\n",
    "        while t_prev < T:\n",
    "            t = np.random.exponential(Lambda[i])[0]\n",
    "            PHI[i].append(t + t_prev)\n",
    "            t_prev = t + t_prev\n",
    "\n",
    "    # step 3\n",
    "    tuple_list = [(i, t) for i in range(n) for t in PHI[i]]\n",
    "    T_list = sorted(tuple_list, key=lambda x: x[1])\n",
    "\n",
    "    # steps 4-11\n",
    "\n",
    "    E_all = {}\n",
    "    for i in range(n):\n",
    "        E_all[i] = []\n",
    "    t_last = np.zeros((n,))\n",
    "\n",
    "    for (e,t) in T_list:\n",
    "        \n",
    "        s = np.sum( Gamma[e]*(t_last != 0)*(t_last < t)*(t_last > t - bar_tau_0) )\n",
    "        p = sigmoid(s)\n",
    "        trial = p >= 0.5\n",
    "        \n",
    "        # update x_i^t\n",
    "        if trial:\n",
    "            E_all[e].append(t)\n",
    "            t_last[e] = t\n",
    "            \n",
    "    return (PHI, E_all)\n",
    "\n"
   ]
  },
  {
   "cell_type": "code",
   "execution_count": null,
   "metadata": {},
   "outputs": [
    {
     "name": "stderr",
     "output_type": "stream",
     "text": [
      "  0%|          | 0/10 [00:00<?, ?it/s]"
     ]
    },
    {
     "name": "stderr",
     "output_type": "stream",
     "text": [
      "100%|██████████| 10/10 [00:03<00:00,  2.92it/s]\n",
      "/tmp/ipykernel_112310/713905159.py:21: RuntimeWarning: invalid value encountered in divide\n",
      "  P1 = Y1 / Y_sum\n"
     ]
    }
   ],
   "source": [
    "\n",
    "\n",
    "def estimate(PHI, E_all, tau_bar, n):\n",
    "    \n",
    "    pow2 = np.power(2, np.arange(n))\n",
    "\n",
    "    Y0 = np.zeros((n, 2**n))\n",
    "    Y1 = np.zeros((n, 2**n))\n",
    "\n",
    "    for i in tqdm(range(n)):\n",
    "        for t in PHI[i]:\n",
    "            z = np.zeros((n,))\n",
    "            for j in range(n):\n",
    "                z[j] = np.sum((E_all[j] > t - tau_bar)*(E_all[j] < t)) > 0\n",
    "                \n",
    "            if t in E_all[i]:\n",
    "                Y1[i][int(z.T @ pow2)] +=1\n",
    "            else:\n",
    "                Y0[i][int(z.T @ pow2)] +=1\n",
    "                \n",
    "    Y_sum = Y0 + Y1 \n",
    "\n",
    "    P1 = Y1 / Y_sum\n",
    "\n",
    "    # check impact of j on i\n",
    "    A_est = np.zeros((n,n))\n",
    "\n",
    "    for i in range(n):\n",
    "        for j in range(n):\n",
    "            effect = []\n",
    "            for k in range(2**n):\n",
    "                if k & (1 << j) == 0:\n",
    "                    # j is present\n",
    "                    effect.append(P1[i][k+pow2[j]]- P1[i][k])\n",
    "            if np.isnan(np.nanmean(effect)) == 0:\n",
    "                A_est[i][j] = np.nanmean(effect)\n",
    "                \n",
    "    return A_est \n",
    "\n",
    "PHI, E_all = gen_sequence_simple(param_name, 1e4, bar_tau_0)\n",
    "A_est = estimate(PHI, E_all, tau_bar, n)"
   ]
  },
  {
   "cell_type": "code",
   "execution_count": 413,
   "metadata": {},
   "outputs": [
    {
     "data": {
      "text/plain": [
       "Text(0.5, 1.0, '$ A (true) $')"
      ]
     },
     "execution_count": 413,
     "metadata": {},
     "output_type": "execute_result"
    },
    {
     "data": {
      "image/png": "[encoded data removed]",
      "text/plain": [
       "<Figure size 800x300 with 4 Axes>"
      ]
     },
     "metadata": {},
     "output_type": "display_data"
    }
   ],
   "source": [
    "fig, axes = plt.subplots(1, 2, figsize=(8, 3))\n",
    "\n",
    "# Plot each heatmap\n",
    "sns.heatmap(np.abs(A_est) > 0 , ax=axes[0], cmap=\"viridis\", vmin=0, vmax=1)\n",
    "axes[0].set_title(\"$ A (estimate) $\")\n",
    "\n",
    "sns.heatmap(Alpha > 0 , ax=axes[1], cmap=\"viridis\", vmin=0, vmax=1)\n",
    "axes[1].set_title(\"$ A (true) $\")\n",
    "\n"
   ]
  },
  {
   "cell_type": "code",
   "execution_count": 414,
   "metadata": {},
   "outputs": [
    {
     "data": {
      "text/plain": [
       "0.96"
      ]
     },
     "execution_count": 414,
     "metadata": {},
     "output_type": "execute_result"
    }
   ],
   "source": [
    "accuracy = 1 - np.sum(np.abs(np.double(np.abs(A_est) > 0 ) - np.double( Alpha > 0 )))/(n*n)"
   ]
  },
  {
   "cell_type": "code",
   "execution_count": 415,
   "metadata": {},
   "outputs": [
    {
     "data": {
      "text/plain": [
       "9.765625"
      ]
     },
     "execution_count": 415,
     "metadata": {},
     "output_type": "execute_result"
    }
   ],
   "source": [
    "T/(2**n)"
   ]
  },
  {
   "cell_type": "code",
   "execution_count": 416,
   "metadata": {},
   "outputs": [
    {
     "data": {
      "text/plain": [
       "Text(0.5, 1.0, 'gamma ')"
      ]
     },
     "execution_count": 416,
     "metadata": {},
     "output_type": "execute_result"
    },
    {
     "data": {
      "image/png": "[encoded data removed]",
      "text/plain": [
       "<Figure size 800x300 with 4 Axes>"
      ]
     },
     "metadata": {},
     "output_type": "display_data"
    }
   ],
   "source": [
    "fig, axes = plt.subplots(1, 2, figsize=(8, 3))\n",
    "\n",
    "# Plot each heatmap\n",
    "sns.heatmap(np.sign(A_est) , ax=axes[0], cmap=\"viridis\")\n",
    "axes[0].set_title(\" C \")\n",
    "\n",
    "sns.heatmap(np.sign(Gamma) , ax=axes[1], cmap=\"viridis\")\n",
    "axes[1].set_title(\"gamma \")"
   ]
  },
  {
   "cell_type": "code",
   "execution_count": 417,
   "metadata": {},
   "outputs": [
    {
     "data": {
      "text/plain": [
       "<matplotlib.collections.PathCollection at 0x7f0cf0ae5110>"
      ]
     },
     "execution_count": 417,
     "metadata": {},
     "output_type": "execute_result"
    },
    {
     "data": {
      "image/png": "[encoded data removed]",
      "text/plain": [
       "<Figure size 640x480 with 1 Axes>"
      ]
     },
     "metadata": {},
     "output_type": "display_data"
    }
   ],
   "source": [
    "plt.scatter(A_est, Gamma)"
   ]
  },
  {
   "cell_type": "code",
   "execution_count": 421,
   "metadata": {},
   "outputs": [
    {
     "data": {
      "text/plain": [
       "1.0"
      ]
     },
     "execution_count": 421,
     "metadata": {},
     "output_type": "execute_result"
    }
   ],
   "source": [
    "W = np.sign(A_est)*np.sign(Gamma)\n",
    "sign_accuracy = np.sum(W == 1)/np.sum(A_est != 0) # how correctly the causal signs are deciphered"
   ]
  },
  {
   "cell_type": "code",
   "execution_count": null,
   "metadata": {},
   "outputs": [],
   "source": []
  }
 ],
 "metadata": {
  "kernelspec": {
   "display_name": "ml",
   "language": "python",
   "name": "python3"
  },
  "language_info": {
   "codemirror_mode": {
    "name": "ipython",
    "version": 3
   },
   "file_extension": ".py",
   "mimetype": "text/x-python",
   "name": "python",
   "nbconvert_exporter": "python",
   "pygments_lexer": "ipython3",
   "version": "3.11.3"
  }
 },
 "nbformat": 4,
 "nbformat_minor": 2
}

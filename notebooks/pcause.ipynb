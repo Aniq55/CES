{
 "cells": [
  {
   "cell_type": "code",
   "execution_count": 1300,
   "metadata": {},
   "outputs": [],
   "source": [
    "import numpy as np \n",
    "import pandas as pd\n",
    "import pickle\n",
    "import matplotlib.pyplot as plt \n",
    "import seaborn as sns \n",
    "sns.set_theme()\n",
    "from tqdm import tqdm "
   ]
  },
  {
   "cell_type": "code",
   "execution_count": 1301,
   "metadata": {},
   "outputs": [],
   "source": [
    "def sigmoid(x):\n",
    "    return 1.0/(1 + np.exp(-x))"
   ]
  },
  {
   "cell_type": "code",
   "execution_count": 1302,
   "metadata": {},
   "outputs": [],
   "source": [
    "param_name = \"Theta_5\"\n",
    "\n",
    "with open(f'/home/chri6578/Documents/CES/params/{param_name}.pickle', 'rb') as file:\n",
    "    Theta = pickle.load(file)\n",
    "    \n",
    "n = Theta['n']\n",
    "Lambda = Theta['Lambda']\n",
    "Eta = Theta['Eta']\n",
    "Alpha = Theta['Alpha']\n",
    "Beta = Theta['Beta']\n",
    "Gamma = Theta['Gamma']\n",
    "T = 1e6"
   ]
  },
  {
   "cell_type": "code",
   "execution_count": 1303,
   "metadata": {},
   "outputs": [],
   "source": [
    "# step 2\n",
    "PHI = {}\n",
    "\n",
    "for i in range(n):\n",
    "    PHI[i] = []\n",
    "    t = 0\n",
    "    t_prev = 0\n",
    "    while t_prev < T:\n",
    "        t = np.random.exponential(Lambda[i])[0]\n",
    "        PHI[i].append(t + t_prev)\n",
    "        t_prev = t + t_prev"
   ]
  },
  {
   "cell_type": "code",
   "execution_count": 1286,
   "metadata": {},
   "outputs": [],
   "source": [
    "# step 3\n",
    "tuple_list = [(i, t) for i in range(n) for t in PHI[i]]\n",
    "T_list = sorted(tuple_list, key=lambda x: x[1])"
   ]
  },
  {
   "cell_type": "code",
   "execution_count": 1287,
   "metadata": {},
   "outputs": [
    {
     "name": "stderr",
     "output_type": "stream",
     "text": [
      "/tmp/ipykernel_4102952/343821928.py:2: RuntimeWarning: overflow encountered in exp\n",
      "  return 1.0/(1 + np.exp(-x))\n"
     ]
    }
   ],
   "source": [
    "# steps 4-11\n",
    "\n",
    "E_all = {}\n",
    "for i in range(n):\n",
    "    E_all[i] = []\n",
    "t_last = np.zeros((n,))\n",
    "\n",
    "for (e,t) in T_list:\n",
    "    # update x_i^t\n",
    "    s = np.sum( Gamma[e]*np.power(t- t_last, Alpha[e]-1)*np.exp(-(t-t_last)*Beta[e])*(t_last != 0) ) + Eta[e]\n",
    "    p = sigmoid(s)\n",
    "    # print(s, p)\n",
    "    trial = np.random.binomial(1,p)\n",
    "    if trial:\n",
    "        E_all[e].append(t)\n",
    "        t_last[e] = t"
   ]
  },
  {
   "cell_type": "code",
   "execution_count": 1288,
   "metadata": {},
   "outputs": [],
   "source": [
    "# save PHI, and E_all\n",
    "\n",
    "# load Theta, PHI, and E_all"
   ]
  },
  {
   "cell_type": "code",
   "execution_count": 1289,
   "metadata": {},
   "outputs": [
    {
     "name": "stderr",
     "output_type": "stream",
     "text": [
      "  0%|          | 0/20 [00:00<?, ?it/s]/tmp/ipykernel_4102952/3798833921.py:66: RuntimeWarning: Mean of empty slice\n",
      "  gPs_mean = np.nanmean(gPs)\n"
     ]
    },
    {
     "name": "stdout",
     "output_type": "stream",
     "text": [
      "[0, 4]\n"
     ]
    },
    {
     "name": "stderr",
     "output_type": "stream",
     "text": [
      "  5%|▌         | 1/20 [00:53<16:48, 53.05s/it]/tmp/ipykernel_4102952/343821928.py:2: RuntimeWarning: overflow encountered in exp\n",
      "  return 1.0/(1 + np.exp(-x))\n"
     ]
    },
    {
     "name": "stdout",
     "output_type": "stream",
     "text": [
      "[1, 3, 8, 10]\n"
     ]
    },
    {
     "name": "stderr",
     "output_type": "stream",
     "text": [
      "/tmp/ipykernel_4102952/3798833921.py:65: RuntimeWarning: Mean of empty slice\n",
      "  gPn_mean = np.nanmean(gPn)\n",
      " 10%|█         | 2/20 [01:18<11:06, 37.02s/it]"
     ]
    },
    {
     "name": "stdout",
     "output_type": "stream",
     "text": [
      "[2, 19]\n"
     ]
    },
    {
     "name": "stderr",
     "output_type": "stream",
     "text": [
      " 15%|█▌        | 3/20 [02:32<15:09, 53.52s/it]"
     ]
    },
    {
     "name": "stdout",
     "output_type": "stream",
     "text": [
      "[2, 3, 6, 7, 17]\n"
     ]
    },
    {
     "name": "stderr",
     "output_type": "stream",
     "text": [
      " 20%|██        | 4/20 [04:19<19:57, 74.86s/it]"
     ]
    },
    {
     "name": "stdout",
     "output_type": "stream",
     "text": [
      "[4, 7, 12]\n"
     ]
    },
    {
     "name": "stderr",
     "output_type": "stream",
     "text": [
      " 25%|██▌       | 5/20 [09:01<37:23, 149.54s/it]"
     ]
    },
    {
     "name": "stdout",
     "output_type": "stream",
     "text": [
      "[5, 13, 14, 18]\n"
     ]
    },
    {
     "name": "stderr",
     "output_type": "stream",
     "text": [
      " 30%|███       | 6/20 [09:05<23:18, 99.90s/it] "
     ]
    },
    {
     "name": "stdout",
     "output_type": "stream",
     "text": [
      "[6, 7]\n"
     ]
    },
    {
     "name": "stderr",
     "output_type": "stream",
     "text": [
      " 35%|███▌      | 7/20 [09:22<15:49, 73.07s/it]"
     ]
    },
    {
     "name": "stdout",
     "output_type": "stream",
     "text": [
      "[4, 7]\n"
     ]
    },
    {
     "name": "stderr",
     "output_type": "stream",
     "text": [
      " 40%|████      | 8/20 [14:35<29:50, 149.22s/it]"
     ]
    },
    {
     "name": "stdout",
     "output_type": "stream",
     "text": [
      "[8, 18, 19]\n"
     ]
    },
    {
     "name": "stderr",
     "output_type": "stream",
     "text": [
      " 45%|████▌     | 9/20 [15:05<20:31, 112.00s/it]"
     ]
    },
    {
     "name": "stdout",
     "output_type": "stream",
     "text": [
      "[6, 9, 10]\n"
     ]
    },
    {
     "name": "stderr",
     "output_type": "stream",
     "text": [
      " 50%|█████     | 10/20 [16:21<16:48, 100.86s/it]"
     ]
    },
    {
     "name": "stdout",
     "output_type": "stream",
     "text": [
      "[0, 10, 17]\n"
     ]
    },
    {
     "name": "stderr",
     "output_type": "stream",
     "text": [
      " 55%|█████▌    | 11/20 [16:42<11:27, 76.40s/it] "
     ]
    },
    {
     "name": "stdout",
     "output_type": "stream",
     "text": [
      "[3, 4, 5, 11, 19]\n"
     ]
    },
    {
     "name": "stderr",
     "output_type": "stream",
     "text": [
      " 60%|██████    | 12/20 [17:35<09:16, 69.51s/it]"
     ]
    },
    {
     "name": "stdout",
     "output_type": "stream",
     "text": [
      "[12, 16]\n"
     ]
    },
    {
     "name": "stderr",
     "output_type": "stream",
     "text": [
      " 65%|██████▌   | 13/20 [17:41<05:51, 50.20s/it]"
     ]
    },
    {
     "name": "stdout",
     "output_type": "stream",
     "text": [
      "[1, 11, 13, 14]\n"
     ]
    },
    {
     "name": "stderr",
     "output_type": "stream",
     "text": [
      " 70%|███████   | 14/20 [18:24<04:47, 47.98s/it]"
     ]
    },
    {
     "name": "stdout",
     "output_type": "stream",
     "text": [
      "[0, 10, 14, 16]\n"
     ]
    },
    {
     "name": "stderr",
     "output_type": "stream",
     "text": [
      " 75%|███████▌  | 15/20 [20:22<05:44, 68.98s/it]"
     ]
    },
    {
     "name": "stdout",
     "output_type": "stream",
     "text": [
      "[0, 9, 15]\n"
     ]
    },
    {
     "name": "stderr",
     "output_type": "stream",
     "text": [
      " 80%|████████  | 16/20 [20:56<03:54, 58.55s/it]"
     ]
    },
    {
     "name": "stdout",
     "output_type": "stream",
     "text": [
      "[1, 5, 7, 16]\n"
     ]
    },
    {
     "name": "stderr",
     "output_type": "stream",
     "text": [
      " 85%|████████▌ | 17/20 [21:36<02:38, 52.82s/it]"
     ]
    },
    {
     "name": "stdout",
     "output_type": "stream",
     "text": [
      "[6, 17]\n"
     ]
    },
    {
     "name": "stderr",
     "output_type": "stream",
     "text": [
      " 90%|█████████ | 18/20 [22:39<01:52, 56.15s/it]"
     ]
    },
    {
     "name": "stdout",
     "output_type": "stream",
     "text": [
      "[0, 17, 18]\n"
     ]
    },
    {
     "name": "stderr",
     "output_type": "stream",
     "text": [
      " 95%|█████████▌| 19/20 [24:09<01:06, 66.17s/it]"
     ]
    },
    {
     "name": "stdout",
     "output_type": "stream",
     "text": [
      "[18, 19]\n"
     ]
    },
    {
     "name": "stderr",
     "output_type": "stream",
     "text": [
      "100%|██████████| 20/20 [24:12<00:00, 72.64s/it]\n"
     ]
    }
   ],
   "source": [
    "# Estimating Probability of Causation \n",
    "\n",
    "tau_bar = 5e2\n",
    "\n",
    "Pn = np.zeros((n,n))\n",
    "Ps = np.zeros((n,n))\n",
    "Pns = np.zeros((n,n))\n",
    "\n",
    "for i in tqdm(range(n)):\n",
    "    Pa_i = [k for k in  range(n) if Alpha[i][k] > 0 ]\n",
    "    print(Pa_i)\n",
    "    for j in range(n):\n",
    "        gPn = [] \n",
    "        gPs = [] \n",
    "        n_yz_ = 0\n",
    "        n_y_z = 0\n",
    "        for t in PHI[i]:\n",
    "            # search for j in (t -tau_bar, t)\n",
    "            Lij = [t_ for t_ in E_all[j] if t - tau_bar < t_ < t]\n",
    "            if len(Lij) > 0:\n",
    "                if t in E_all[i]:\n",
    "                    # (y_i, z_j)\n",
    "                    t_last = np.zeros((n,))\n",
    "                    for k in Pa_i:\n",
    "                        Lik = [t_ for t_ in E_all[k] if t - tau_bar < t_ < t]\n",
    "                        if len(Lik)>0:\n",
    "                            t_last[k] = np.max(Lik)\n",
    "                            \n",
    "                    t_last[j] = 0 # imposing z_j' \n",
    "                    \n",
    "                    #calculate probability of necessity                    \n",
    "                    gPn.append(\n",
    "                        1 -sigmoid( np.sum( Gamma[i]*np.power(t- t_last, Alpha[i]-1)*np.exp(-(t-t_last)*Beta[i])*(t_last != 0) ) \n",
    "                                + Eta[i] )[0]\n",
    "                    )\n",
    "                    \n",
    "                \n",
    "                else:\n",
    "                    # (y_i', z_j)\n",
    "                    n_y_z += 1\n",
    "            \n",
    "            else:\n",
    "                if t not in E_all[i]:\n",
    "                    # (y_i', z_j')\n",
    "                    t_last = np.zeros((n,))\n",
    "                    for k in Pa_i:\n",
    "                        Lik = [t_ for t_ in E_all[k] if t - tau_bar < t_ < t]\n",
    "                        if len(Lik)>0:\n",
    "                            t_last[k] = np.max(Lik)\n",
    "                            \n",
    "                    t_last[j] = np.random.uniform(t- tau_bar, t) # imposing z_j \n",
    "                    \n",
    "                    #calculate probability of necessity                    \n",
    "                    gPs.append(\n",
    "                        sigmoid( np.sum( Gamma[i]*np.power(t- t_last, Alpha[i]-1)*np.exp(-(t-t_last)*Beta[i])*(t_last != 0) ) \n",
    "                                + Eta[i] )[0]\n",
    "                    )\n",
    "                \n",
    "                else:\n",
    "                    # (y_i, z_j')\n",
    "                    n_yz_ += 1\n",
    "                    \n",
    "        # Calculate probabilities here\n",
    "        \n",
    "        gPn_mean = np.nanmean(gPn)\n",
    "        gPs_mean = np.nanmean(gPs)\n",
    "        \n",
    "        \n",
    "        Pn[i][j] = 0 if np.isnan(gPn_mean) else gPn_mean  \n",
    "        Ps[i][j] = 0 if np.isnan(gPs_mean) else gPs_mean\n",
    "        \n",
    "        total = len(gPn) + len(gPs) + n_y_z + n_yz_\n",
    "        Pns[i][j] = ( len(gPn)*Pn[i][j] + len(gPs)*Ps[i][j] )/ total"
   ]
  },
  {
   "cell_type": "code",
   "execution_count": 1299,
   "metadata": {},
   "outputs": [
    {
     "data": {
      "image/png": "[encoded data removed]",
      "text/plain": [
       "<Figure size 1500x300 with 10 Axes>"
      ]
     },
     "metadata": {},
     "output_type": "display_data"
    }
   ],
   "source": [
    "fig, axes = plt.subplots(1, 5, figsize=(15, 3))\n",
    "\n",
    "# Plot each heatmap\n",
    "sns.heatmap(Pn, ax=axes[0], cmap=\"viridis\", vmin=0, vmax=1)\n",
    "axes[0].set_title(\"$ P^n $\")\n",
    "\n",
    "sns.heatmap(Ps, ax=axes[1], cmap=\"viridis\", vmin=0, vmax=1)\n",
    "axes[1].set_title(\"$ P^s $\")\n",
    "\n",
    "sns.heatmap(Pns, ax=axes[2], cmap=\"viridis\", vmin=0, vmax=1)\n",
    "axes[2].set_title(\"$ P^{n,s} $\")\n",
    "\n",
    "sns.heatmap(Pns > 0.18, ax=axes[3], cmap=\"viridis\")\n",
    "axes[3].set_title(\"$ P^{n,s} $\")\n",
    "\n",
    "sns.heatmap(Alpha>0, ax=axes[4], cmap=\"viridis\", vmin=0, vmax=1)\n",
    "axes[4].set_title(\"$ G $\")\n",
    "\n",
    "# Adjust layout\n",
    "plt.tight_layout()\n",
    "plt.show()"
   ]
  },
  {
   "cell_type": "code",
   "execution_count": 1291,
   "metadata": {},
   "outputs": [],
   "source": [
    "G = np.double(Alpha > 0)"
   ]
  },
  {
   "cell_type": "code",
   "execution_count": 1292,
   "metadata": {},
   "outputs": [
    {
     "data": {
      "text/plain": [
       "(0.4109891266168977, 0.3779287737666742, 0.3654981033971412)"
      ]
     },
     "execution_count": 1292,
     "metadata": {},
     "output_type": "execute_result"
    }
   ],
   "source": [
    "np.linalg.norm(G - Pn)/n, np.linalg.norm(G - Ps)/n, np.linalg.norm(G - Pns )/n"
   ]
  },
  {
   "cell_type": "code",
   "execution_count": 1293,
   "metadata": {},
   "outputs": [
    {
     "name": "stderr",
     "output_type": "stream",
     "text": [
      "/tmp/ipykernel_4102952/343821928.py:2: RuntimeWarning: overflow encountered in exp\n",
      "  return 1.0/(1 + np.exp(-x))\n"
     ]
    },
    {
     "data": {
      "text/plain": [
       "<matplotlib.collections.PathCollection at 0x7f1987bbc250>"
      ]
     },
     "execution_count": 1293,
     "metadata": {},
     "output_type": "execute_result"
    },
    {
     "data": {
      "image/png": "[encoded data removed]",
      "text/plain": [
       "<Figure size 640x480 with 1 Axes>"
      ]
     },
     "metadata": {},
     "output_type": "display_data"
    }
   ],
   "source": [
    "plt.scatter(sigmoid(Gamma), Ps)\n",
    "# plt.scatter(Gamma, Ps)\n",
    "# plt.scatter(Gamma, Pn)"
   ]
  },
  {
   "cell_type": "code",
   "execution_count": null,
   "metadata": {},
   "outputs": [],
   "source": []
  }
 ],
 "metadata": {
  "kernelspec": {
   "display_name": "ml",
   "language": "python",
   "name": "python3"
  },
  "language_info": {
   "codemirror_mode": {
    "name": "ipython",
    "version": 3
   },
   "file_extension": ".py",
   "mimetype": "text/x-python",
   "name": "python",
   "nbconvert_exporter": "python",
   "pygments_lexer": "ipython3",
   "version": "3.11.3"
  }
 },
 "nbformat": 4,
 "nbformat_minor": 2
}

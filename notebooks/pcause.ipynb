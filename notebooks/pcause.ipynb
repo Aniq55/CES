{
 "cells": [
  {
   "cell_type": "code",
   "execution_count": 376,
   "metadata": {},
   "outputs": [],
   "source": [
    "import numpy as np \n",
    "import pandas as pd\n",
    "import pickle\n",
    "import matplotlib.pyplot as plt \n",
    "import seaborn as sns \n",
    "sns.set_theme()"
   ]
  },
  {
   "cell_type": "code",
   "execution_count": 377,
   "metadata": {},
   "outputs": [],
   "source": [
    "def sigmoid(x):\n",
    "    return 1.0/(1 + np.exp(-x))"
   ]
  },
  {
   "cell_type": "code",
   "execution_count": 378,
   "metadata": {},
   "outputs": [],
   "source": [
    "param_name = \"Theta_2\"\n",
    "\n",
    "with open(f'/home/chri6578/Documents/CES/params/{param_name}.pickle', 'rb') as file:\n",
    "    Theta = pickle.load(file)\n",
    "    \n",
    "n = Theta['n']\n",
    "Lambda = Theta['Lambda']\n",
    "Eta = Theta['Eta']\n",
    "Alpha = Theta['Alpha']\n",
    "Beta = Theta['Beta']\n",
    "Gamma = Theta['Gamma']\n",
    "T = 1e4"
   ]
  },
  {
   "cell_type": "code",
   "execution_count": 379,
   "metadata": {},
   "outputs": [],
   "source": [
    "# step 2\n",
    "PHI = {}\n",
    "\n",
    "for i in range(n):\n",
    "    PHI[i] = []\n",
    "    t = 0\n",
    "    t_prev = 0\n",
    "    while t_prev < T:\n",
    "        t = np.random.exponential(Lambda[i])[0]\n",
    "        PHI[i].append(t + t_prev)\n",
    "        t_prev = t + t_prev"
   ]
  },
  {
   "cell_type": "code",
   "execution_count": 380,
   "metadata": {},
   "outputs": [],
   "source": [
    "# step 3\n",
    "tuple_list = [(i, t) for i in range(n) for t in PHI[i]]\n",
    "T_list = sorted(tuple_list, key=lambda x: x[1])"
   ]
  },
  {
   "cell_type": "code",
   "execution_count": 381,
   "metadata": {},
   "outputs": [],
   "source": [
    "# steps 4-11\n",
    "\n",
    "E_all = {}\n",
    "for i in range(n):\n",
    "    E_all[i] = []\n",
    "t_last = np.zeros((n,))\n",
    "\n",
    "for (e,t) in T_list:\n",
    "    # update x_i^t\n",
    "    s = np.sum( Gamma[e]*np.power(t- t_last, Alpha[e]-1)*np.exp(-(t-t_last)*Beta[e])*(t_last != 0) ) + Eta[e]\n",
    "    p = sigmoid(s)\n",
    "    # print(s, p)\n",
    "    trial = np.random.binomial(1,p)\n",
    "    if trial:\n",
    "        E_all[e].append(t)\n",
    "        t_last[e] = t"
   ]
  },
  {
   "cell_type": "code",
   "execution_count": 382,
   "metadata": {},
   "outputs": [],
   "source": [
    "# save PHI, and E_all\n",
    "\n",
    "# load Theta, PHI, and E_all"
   ]
  },
  {
   "cell_type": "code",
   "execution_count": 383,
   "metadata": {},
   "outputs": [
    {
     "name": "stdout",
     "output_type": "stream",
     "text": [
      "[0, 5, 6]\n",
      "[1, 6]\n",
      "[0, 2, 6]\n",
      "[3, 4, 5]\n",
      "[3, 4]\n",
      "[4, 5, 9]\n",
      "[2, 6]\n",
      "[1, 2, 5, 6, 7]\n",
      "[3, 5, 8, 9]\n",
      "[3, 9]\n"
     ]
    },
    {
     "name": "stderr",
     "output_type": "stream",
     "text": [
      "/tmp/ipykernel_4102952/3324838345.py:33: RuntimeWarning: divide by zero encountered in power\n",
      "  1 -sigmoid( np.sum( Gamma[e]*np.power(t- t_last, Alpha[e]-1)*np.exp(-(t-t_last)*Beta[e])*(t_last != 0) )\n",
      "/tmp/ipykernel_4102952/3324838345.py:65: RuntimeWarning: Mean of empty slice\n",
      "  gPn_mean = np.nanmean(gPn)\n",
      "/tmp/ipykernel_4102952/3324838345.py:66: RuntimeWarning: Mean of empty slice\n",
      "  gPs_mean = np.nanmean(gPs)\n",
      "/tmp/ipykernel_4102952/3324838345.py:33: RuntimeWarning: invalid value encountered in multiply\n",
      "  1 -sigmoid( np.sum( Gamma[e]*np.power(t- t_last, Alpha[e]-1)*np.exp(-(t-t_last)*Beta[e])*(t_last != 0) )\n"
     ]
    }
   ],
   "source": [
    "# Estimating Probability of Causation \n",
    "\n",
    "tau_bar = 500\n",
    "\n",
    "Pn = np.zeros((n,n))\n",
    "Ps = np.zeros((n,n))\n",
    "Pns = np.zeros((n,n))\n",
    "\n",
    "for i in range(n):\n",
    "    Pa_i = [k for k in  range(n) if Alpha[i][k] > 0 ]\n",
    "    print(Pa_i)\n",
    "    for j in range(n):\n",
    "        gPn = [] \n",
    "        gPs = [] \n",
    "        n_yz_ = 0\n",
    "        n_y_z = 0\n",
    "        for t in PHI[i]:\n",
    "            # search for j in (t -tau_bar, t)\n",
    "            Lij = [t_ for t_ in E_all[j] if t - tau_bar < t_ <= t]\n",
    "            if len(Lij) > 0:\n",
    "                if t in E_all[i]:\n",
    "                    # (y_i, z_j)\n",
    "                    t_last = np.zeros((n,))\n",
    "                    for k in Pa_i:\n",
    "                        Lik = [t_ for t_ in E_all[k] if t - tau_bar < t_ <= t]\n",
    "                        if len(Lik)>0:\n",
    "                            t_last[k] = np.max(Lik)\n",
    "                            \n",
    "                    t_last[j] = 0 # imposing z_j' \n",
    "                    \n",
    "                    #calculate probability of necessity                    \n",
    "                    gPn.append(\n",
    "                        1 -sigmoid( np.sum( Gamma[e]*np.power(t- t_last, Alpha[e]-1)*np.exp(-(t-t_last)*Beta[e])*(t_last != 0) ) \n",
    "                                + Eta[e] )[0]\n",
    "                    )\n",
    "                    \n",
    "                \n",
    "                else:\n",
    "                    # (y_i', z_j)\n",
    "                    n_y_z += 1\n",
    "            \n",
    "            else:\n",
    "                if t not in E_all[i]:\n",
    "                    # (y_i', z_j')\n",
    "                    t_last = np.zeros((n,))\n",
    "                    for k in Pa_i:\n",
    "                        Lik = [t_ for t_ in E_all[k] if t - tau_bar < t_ <= t]\n",
    "                        if len(Lik)>0:\n",
    "                            t_last[k] = np.max(Lik)\n",
    "                            \n",
    "                    t_last[j] = np.random.uniform(t- tau_bar, t) # imposing z_j \n",
    "                    \n",
    "                    #calculate probability of necessity                    \n",
    "                    gPs.append(\n",
    "                        sigmoid( np.sum( Gamma[e]*np.power(t- t_last, Alpha[e]-1)*np.exp(-(t-t_last)*Beta[e])*(t_last != 0) ) \n",
    "                                + Eta[e] )[0]\n",
    "                    )\n",
    "                \n",
    "                else:\n",
    "                    # (y_i, z_j')\n",
    "                    n_yz_ += 1\n",
    "                    \n",
    "        # Calculate probabilities here\n",
    "        \n",
    "        gPn_mean = np.nanmean(gPn)\n",
    "        gPs_mean = np.nanmean(gPs)\n",
    "        \n",
    "        \n",
    "        Pn[i][j] = 0 if np.isnan(gPn_mean) else gPn_mean  \n",
    "        Ps[i][j] = 0 if np.isnan(gPs_mean) else gPs_mean\n",
    "        \n",
    "        total = len(gPn) + len(gPs) + n_y_z + n_yz_\n",
    "        Pns[i][j] = ( len(gPn)*Pn[i][j] + len(gPs)*Ps[i][j] )/ total"
   ]
  },
  {
   "cell_type": "code",
   "execution_count": 384,
   "metadata": {},
   "outputs": [
    {
     "data": {
      "image/png": "[encoded data removed]",
      "text/plain": [
       "<Figure size 1200x300 with 8 Axes>"
      ]
     },
     "metadata": {},
     "output_type": "display_data"
    }
   ],
   "source": [
    "fig, axes = plt.subplots(1, 4, figsize=(12, 3))\n",
    "\n",
    "# Plot each heatmap\n",
    "sns.heatmap(Pn, ax=axes[0], cmap=\"viridis\", vmin=0, vmax=1)\n",
    "axes[0].set_title(\"$ P^n $\")\n",
    "\n",
    "sns.heatmap(Ps, ax=axes[1], cmap=\"viridis\", vmin=0, vmax=1)\n",
    "axes[1].set_title(\"$ P^s $\")\n",
    "\n",
    "sns.heatmap(Pns, ax=axes[2], cmap=\"viridis\", vmin=0, vmax=1)\n",
    "axes[2].set_title(\"$ P^{n,s} $\")\n",
    "\n",
    "sns.heatmap(Alpha>0, ax=axes[3], cmap=\"viridis\", vmin=0, vmax=1)\n",
    "axes[3].set_title(\"$ G $\")\n",
    "\n",
    "# Adjust layout\n",
    "plt.tight_layout()\n",
    "plt.show()"
   ]
  },
  {
   "cell_type": "code",
   "execution_count": 385,
   "metadata": {},
   "outputs": [],
   "source": [
    "G = np.double(Alpha > 0)"
   ]
  },
  {
   "cell_type": "code",
   "execution_count": 386,
   "metadata": {},
   "outputs": [
    {
     "data": {
      "text/plain": [
       "(0.5815925367238265, 0.46011522100038144, 0.47927786883874157)"
      ]
     },
     "execution_count": 386,
     "metadata": {},
     "output_type": "execute_result"
    }
   ],
   "source": [
    "np.linalg.norm(G - Pn)/n, np.linalg.norm(G - Ps)/n, np.linalg.norm(G - Pns)/n"
   ]
  },
  {
   "cell_type": "code",
   "execution_count": null,
   "metadata": {},
   "outputs": [],
   "source": []
  }
 ],
 "metadata": {
  "kernelspec": {
   "display_name": "ml",
   "language": "python",
   "name": "python3"
  },
  "language_info": {
   "codemirror_mode": {
    "name": "ipython",
    "version": 3
   },
   "file_extension": ".py",
   "mimetype": "text/x-python",
   "name": "python",
   "nbconvert_exporter": "python",
   "pygments_lexer": "ipython3",
   "version": "3.11.3"
  }
 },
 "nbformat": 4,
 "nbformat_minor": 2
}

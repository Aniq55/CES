{
 "cells": [
  {
   "cell_type": "code",
   "execution_count": 1,
   "metadata": {},
   "outputs": [],
   "source": [
    "import numpy as np \n",
    "import pandas as pd\n",
    "import pickle\n",
    "import matplotlib.pyplot as plt \n",
    "import seaborn as sns \n",
    "sns.set_theme()\n",
    "from tqdm import tqdm"
   ]
  },
  {
   "cell_type": "code",
   "execution_count": 2,
   "metadata": {},
   "outputs": [],
   "source": [
    "def sigmoid(x):\n",
    "    return 1.0/(1 + np.exp(-x))"
   ]
  },
  {
   "cell_type": "code",
   "execution_count": 3,
   "metadata": {},
   "outputs": [],
   "source": [
    "param_name = \"Theta_2\"\n",
    "\n",
    "with open(f'/home/chri6578/Documents/CES/params/{param_name}.pickle', 'rb') as file:\n",
    "    Theta = pickle.load(file)\n",
    "    \n",
    "n = Theta['n']\n",
    "Lambda = Theta['Lambda']\n",
    "Eta = Theta['Eta']\n",
    "Alpha = Theta['Alpha']\n",
    "Beta = Theta['Beta']\n",
    "Gamma = Theta['Gamma']\n",
    "T = 1e5"
   ]
  },
  {
   "cell_type": "code",
   "execution_count": 4,
   "metadata": {},
   "outputs": [],
   "source": [
    "# step 2\n",
    "PHI = {}\n",
    "\n",
    "for i in range(n):\n",
    "    PHI[i] = []\n",
    "    t = 0\n",
    "    t_prev = 0\n",
    "    while t_prev < T:\n",
    "        t = np.random.exponential(Lambda[i])[0]\n",
    "        PHI[i].append(t + t_prev)\n",
    "        t_prev = t + t_prev"
   ]
  },
  {
   "cell_type": "code",
   "execution_count": 5,
   "metadata": {},
   "outputs": [],
   "source": [
    "# step 3\n",
    "tuple_list = [(i, t) for i in range(n) for t in PHI[i]]\n",
    "T_list = sorted(tuple_list, key=lambda x: x[1])"
   ]
  },
  {
   "cell_type": "code",
   "execution_count": 6,
   "metadata": {},
   "outputs": [],
   "source": [
    "# steps 4-11\n",
    "\n",
    "E_all = {}\n",
    "for i in range(n):\n",
    "    E_all[i] = []\n",
    "t_last = np.zeros((n,))\n",
    "\n",
    "for (e,t) in T_list:\n",
    "    # update x_i^t\n",
    "    s = np.sum( Gamma[e]*np.power(t- t_last, Alpha[e]-1)*np.exp(-(t-t_last)*Beta[e])*(t_last != 0) ) + Eta[e]\n",
    "    p = sigmoid(s)\n",
    "    # print(s, p)\n",
    "    trial = np.random.binomial(1,p)\n",
    "    if trial:\n",
    "        E_all[e].append(t)\n",
    "        t_last[e] = t"
   ]
  },
  {
   "cell_type": "code",
   "execution_count": 7,
   "metadata": {},
   "outputs": [],
   "source": [
    "# save PHI, and E_all\n",
    "\n",
    "# load Theta, PHI, and E_all"
   ]
  },
  {
   "cell_type": "code",
   "execution_count": 8,
   "metadata": {},
   "outputs": [
    {
     "name": "stderr",
     "output_type": "stream",
     "text": [
      "  0%|          | 0/10 [00:00<?, ?it/s]/tmp/ipykernel_13837/1562455511.py:49: RuntimeWarning: divide by zero encountered in log\n",
      "  C[i][j] = np.log(P_yz) - np.log(P_yz_)\n",
      "100%|██████████| 10/10 [00:00<00:00, 16.72it/s]\n"
     ]
    }
   ],
   "source": [
    "# Causal Discovery (full data)\n",
    "\n",
    "tau_bar = 500\n",
    "\n",
    "C = np.zeros((n,n))\n",
    "\n",
    "for i in tqdm(range(n)):\n",
    "    for j in range(n):\n",
    "        n_yz = 0\n",
    "        n_yz_ = 0\n",
    "        n_y_z = 0\n",
    "        n_y_z_ = 0\n",
    "        for t in PHI[i]:\n",
    "            # search for j in (t -tau_bar, t)\n",
    "            Lij = [t_ for t_ in E_all[j] if t - tau_bar < t_ and t_ < t]\n",
    "            if len(Lij) > 0: # z_j\n",
    "                if t in E_all[i]:\n",
    "                    # (y_i, z_j)\n",
    "                    n_yz += 1\n",
    "                else:\n",
    "                    # (y_i', z_j)\n",
    "                    n_y_z += 1\n",
    "            \n",
    "            else: # z_j'\n",
    "                if t not in E_all[i]:\n",
    "                    # (y_i', z_j')\n",
    "                    n_y_z_ += 1\n",
    "                \n",
    "                else:\n",
    "                    # (y_i, z_j')\n",
    "                    n_yz_ += 1\n",
    "                    \n",
    "        # Calculate probabilities here\n",
    "        \n",
    "        P_yz, P_yz_, P_y_z, P_y_z_ = 0, 0, 0, 0\n",
    "        \n",
    "        if n_yz + n_y_z > 0:\n",
    "            P_yz = n_yz/(n_yz + n_y_z)\n",
    "            \n",
    "        if n_yz_ + n_y_z_ > 0:\n",
    "            P_yz_ = n_yz_/(n_yz_ + n_y_z_)\n",
    "        \n",
    "        if n_yz + n_y_z > 0:\n",
    "            P_y_z = n_y_z/(n_yz + n_y_z)\n",
    "        \n",
    "        if n_yz_ + n_y_z_ > 0:\n",
    "            P_y_z_ = n_y_z_/(n_yz_ + n_y_z_)\n",
    "        \n",
    "        C[i][j] = np.log(P_yz) - np.log(P_yz_) \n",
    "        "
   ]
  },
  {
   "cell_type": "code",
   "execution_count": 9,
   "metadata": {},
   "outputs": [
    {
     "data": {
      "image/png": "[encoded data removed]",
      "text/plain": [
       "<Figure size 1300x300 with 8 Axes>"
      ]
     },
     "metadata": {},
     "output_type": "display_data"
    }
   ],
   "source": [
    "fig, axes = plt.subplots(1, 4, figsize=(13, 3))\n",
    "\n",
    "# Plot each heatmap\n",
    "sns.heatmap( C, ax=axes[0], cmap=\"viridis\")\n",
    "axes[0].set_title(\"$ C $\")\n",
    "\n",
    "sns.heatmap( C > 0, ax=axes[1], cmap=\"viridis\", vmin=0, vmax=1)\n",
    "axes[1].set_title(\"$ C > 0$\")\n",
    "\n",
    "sns.heatmap( np.abs(C) > 0.1, ax=axes[2], cmap=\"viridis\", vmin=0, vmax=1)\n",
    "axes[2].set_title(\"$ |C| $\")\n",
    "\n",
    "sns.heatmap(Alpha>0, ax=axes[3], cmap=\"viridis\", vmin=0, vmax=1)\n",
    "axes[3].set_title(\"$ G $\")\n",
    "\n",
    "# Adjust layout\n",
    "plt.tight_layout()\n",
    "plt.show()"
   ]
  },
  {
   "cell_type": "code",
   "execution_count": 10,
   "metadata": {},
   "outputs": [],
   "source": [
    "G = np.double(Alpha > 0)"
   ]
  },
  {
   "cell_type": "code",
   "execution_count": 11,
   "metadata": {},
   "outputs": [
    {
     "data": {
      "text/plain": [
       "<matplotlib.legend.Legend at 0x7f5f660220d0>"
      ]
     },
     "execution_count": 11,
     "metadata": {},
     "output_type": "execute_result"
    },
    {
     "data": {
      "image/png": "[encoded data removed]",
      "text/plain": [
       "<Figure size 640x480 with 1 Axes>"
      ]
     },
     "metadata": {},
     "output_type": "display_data"
    }
   ],
   "source": [
    "plt.scatter(sigmoid(Eta), [C[i][i] for i in range(n)], label='C')\n",
    "# plt.ylim([0,1])\n",
    "plt.xlim([0,1])\n",
    "plt.legend()"
   ]
  },
  {
   "cell_type": "code",
   "execution_count": null,
   "metadata": {},
   "outputs": [],
   "source": []
  },
  {
   "cell_type": "code",
   "execution_count": null,
   "metadata": {},
   "outputs": [],
   "source": []
  }
 ],
 "metadata": {
  "kernelspec": {
   "display_name": "ml",
   "language": "python",
   "name": "python3"
  },
  "language_info": {
   "codemirror_mode": {
    "name": "ipython",
    "version": 3
   },
   "file_extension": ".py",
   "mimetype": "text/x-python",
   "name": "python",
   "nbconvert_exporter": "python",
   "pygments_lexer": "ipython3",
   "version": "3.11.3"
  }
 },
 "nbformat": 4,
 "nbformat_minor": 2
}
